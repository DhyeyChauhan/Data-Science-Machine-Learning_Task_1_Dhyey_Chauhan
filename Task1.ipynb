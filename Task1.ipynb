{
 "cells": [
  {
   "cell_type": "code",
   "execution_count": 3,
   "id": "fe0af207-bb62-4bd9-a8b4-a53be0085c36",
   "metadata": {},
   "outputs": [
    {
     "name": "stdout",
     "output_type": "stream",
     "text": [
      "The determinant of the matrix is: -36.99999999999999\n"
     ]
    }
   ],
   "source": [
    "#Calculate the determinant of a square matrix using numpy.\n",
    "import numpy as np\n",
    "\n",
    "# Define the square matrix\n",
    "matrix = np.array([\n",
    "    [4, 2, 3],\n",
    "    [3, 1, 4],\n",
    "    [2, 5, 6]\n",
    "])\n",
    "\n",
    "# Calculate the determinant\n",
    "determinant = np.linalg.det(matrix)\n",
    "\n",
    "# Print the result\n",
    "print(f\"The determinant of the matrix is: {determinant}\")\n"
   ]
  },
  {
   "cell_type": "code",
   "execution_count": null,
   "id": "bf5bd1fe-725c-4514-b412-58b30376d903",
   "metadata": {},
   "outputs": [],
   "source": []
  }
 ],
 "metadata": {
  "kernelspec": {
   "display_name": "Python 3 (ipykernel)",
   "language": "python",
   "name": "python3"
  },
  "language_info": {
   "codemirror_mode": {
    "name": "ipython",
    "version": 3
   },
   "file_extension": ".py",
   "mimetype": "text/x-python",
   "name": "python",
   "nbconvert_exporter": "python",
   "pygments_lexer": "ipython3",
   "version": "3.12.4"
  }
 },
 "nbformat": 4,
 "nbformat_minor": 5
}
